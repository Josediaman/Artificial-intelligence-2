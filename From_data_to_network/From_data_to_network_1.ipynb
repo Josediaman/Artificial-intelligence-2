{
  "nbformat": 4,
  "nbformat_minor": 0,
  "metadata": {
    "colab": {
      "name": "From_data_to_network_1.ipynb",
      "provenance": [],
      "collapsed_sections": [
        "u0Ad27-5xCAs",
        "2vYVkLLHxEHu",
        "QoiDS5SExJEh",
        "-H7aMU6AxRyj",
        "-L2i4vHW6RTi",
        "G5Un-1R36WEI",
        "BGLVpV7TElaq",
        "QxUUa3QrG9yv"
      ]
    },
    "kernelspec": {
      "name": "python3",
      "display_name": "Python 3"
    }
  },
  "cells": [
    {
      "cell_type": "markdown",
      "metadata": {
        "id": "BpOooj7cwaYU"
      },
      "source": [
        "# From data to network 1"
      ]
    },
    {
      "cell_type": "markdown",
      "metadata": {
        "id": "u0Ad27-5xCAs"
      },
      "source": [
        "## Packages"
      ]
    },
    {
      "cell_type": "code",
      "metadata": {
        "id": "JIWSVNOiwZkP"
      },
      "source": [
        "# Example of calculating Euclidean distance\n",
        "from math import sqrt\n",
        "import networkx as nx"
      ],
      "execution_count": null,
      "outputs": []
    },
    {
      "cell_type": "markdown",
      "metadata": {
        "id": "2vYVkLLHxEHu"
      },
      "source": [
        "## Useful aplications"
      ]
    },
    {
      "cell_type": "code",
      "metadata": {
        "id": "rmel_M_SvJoR"
      },
      "source": [
        "# calculate the Euclidean distance between two vectors\n",
        "def euclidean_distance(row1, row2):\n",
        "\tdistance = 0.0\n",
        "\tfor i in range(len(row1)-1):\n",
        "\t\tdistance += (row1[i] - row2[i])**2\n",
        "\treturn sqrt(distance)"
      ],
      "execution_count": null,
      "outputs": []
    },
    {
      "cell_type": "markdown",
      "metadata": {
        "id": "QoiDS5SExJEh"
      },
      "source": [
        "## Data"
      ]
    },
    {
      "cell_type": "code",
      "metadata": {
        "id": "4DolQaE3wv2X"
      },
      "source": [
        "# Test distance function\n",
        "dataset = [[2.7810836,2.550537003,0],\n",
        "\t[1.465489372,2.362125076,0],\n",
        "\t[3.396561688,4.400293529,0],\n",
        "\t[1.38807019,1.850220317,0],\n",
        "\t[3.06407232,3.005305973,0],\n",
        "\t[7.627531214,2.759262235,1],\n",
        "\t[5.332441248,2.088626775,1],\n",
        "\t[6.922596716,1.77106367,1],\n",
        "\t[8.675418651,-0.242068655,1],\n",
        "\t[7.673756466,3.508563011,1]]"
      ],
      "execution_count": null,
      "outputs": []
    },
    {
      "cell_type": "markdown",
      "metadata": {
        "id": "-H7aMU6AxRyj"
      },
      "source": [
        "## Model"
      ]
    },
    {
      "cell_type": "markdown",
      "metadata": {
        "id": "-L2i4vHW6RTi"
      },
      "source": [
        "### K-NN"
      ]
    },
    {
      "cell_type": "code",
      "metadata": {
        "id": "EWi82kAPxQXk"
      },
      "source": [
        "# Locate the most similar neighbors\n",
        "def KNN(train, test_row, num_neighbors):\n",
        "\tdistances = list()\n",
        "\tfor train_row in train:\n",
        "\t\tdist = euclidean_distance(test_row, train_row)\n",
        "\t\tdistances.append((train_row, dist))\n",
        "\tdistances.sort(key=lambda tup: tup[1])\n",
        "\tneighbors = list()\n",
        "\tfor i in range(num_neighbors):\n",
        "\t\tneighbors.append(distances[i][0])\n",
        "\treturn neighbors\n"
      ],
      "execution_count": null,
      "outputs": []
    },
    {
      "cell_type": "code",
      "metadata": {
        "colab": {
          "base_uri": "https://localhost:8080/"
        },
        "id": "PnwWaaE-xATW",
        "outputId": "8c435301-9220-4f2e-a2fc-8dc5ee39b3ec"
      },
      "source": [
        "neighbors = KNN(dataset, dataset[6], 3)\n",
        "for neighbor in neighbors:\n",
        "\tprint(neighbor)"
      ],
      "execution_count": null,
      "outputs": [
        {
          "output_type": "stream",
          "text": [
            "[5.332441248, 2.088626775, 1]\n",
            "[6.922596716, 1.77106367, 1]\n",
            "[7.627531214, 2.759262235, 1]\n"
          ],
          "name": "stdout"
        }
      ]
    },
    {
      "cell_type": "markdown",
      "metadata": {
        "id": "G5Un-1R36WEI"
      },
      "source": [
        "### E-radious"
      ]
    },
    {
      "cell_type": "code",
      "metadata": {
        "id": "dmv5wYvX2pCr"
      },
      "source": [
        "# Locate the most similar neighbors\n",
        "def eradious(train, test_row,radious):\n",
        "\tdistances = list()\n",
        "\tfor train_row in train:\n",
        "\t\tdist = euclidean_distance(test_row, train_row)\n",
        "\t\tdistances.append((train_row, dist))\n",
        "\tdistances.sort(key=lambda tup: tup[1])\n",
        "\tneighbors = list()\n",
        "\tfor i in range(len(distances)):\n",
        "\t\tif distances[i][1]<radious: neighbors.append(distances[i][0])\n",
        "\treturn neighbors"
      ],
      "execution_count": null,
      "outputs": []
    },
    {
      "cell_type": "code",
      "metadata": {
        "id": "NIDvkaKk9iBM"
      },
      "source": [
        "neighbors = eradious(dataset, dataset[7],2)"
      ],
      "execution_count": null,
      "outputs": []
    },
    {
      "cell_type": "code",
      "metadata": {
        "colab": {
          "base_uri": "https://localhost:8080/"
        },
        "id": "ZPtOk_JI9wJp",
        "outputId": "a59dbde9-0516-4055-8aea-e0fbdf0058fb"
      },
      "source": [
        "for neighbor in neighbors:\n",
        "\tprint(neighbor)"
      ],
      "execution_count": null,
      "outputs": [
        {
          "output_type": "stream",
          "text": [
            "[6.922596716, 1.77106367, 1]\n",
            "[7.627531214, 2.759262235, 1]\n",
            "[5.332441248, 2.088626775, 1]\n",
            "[7.673756466, 3.508563011, 1]\n"
          ],
          "name": "stdout"
        }
      ]
    },
    {
      "cell_type": "markdown",
      "metadata": {
        "id": "BGLVpV7TElaq"
      },
      "source": [
        "### Model with eradious and knn"
      ]
    },
    {
      "cell_type": "code",
      "metadata": {
        "id": "dY2NsNnaEsfy"
      },
      "source": [
        "def modelo_final(train, test_row,radious,num_neighbors):\n",
        "  neighbors = eradious(dataset, test_row,radious)\n",
        "  if len(neighbors)<num_neighbors:\n",
        "    neighbors = KNN(dataset, test_row,num_neighbors)\n",
        "  return neighbors"
      ],
      "execution_count": null,
      "outputs": []
    },
    {
      "cell_type": "code",
      "metadata": {
        "colab": {
          "base_uri": "https://localhost:8080/"
        },
        "id": "dxOa-LKxFzZ1",
        "outputId": "7317a6aa-8ad2-45d6-c327-77e6ee7bc842"
      },
      "source": [
        "neighbors = modelo_final(dataset, dataset[7],2,3)\n",
        "for neighbor in neighbors:\n",
        "\tprint(neighbor)"
      ],
      "execution_count": null,
      "outputs": [
        {
          "output_type": "stream",
          "text": [
            "[6.922596716, 1.77106367, 1]\n",
            "[7.627531214, 2.759262235, 1]\n",
            "[5.332441248, 2.088626775, 1]\n",
            "[7.673756466, 3.508563011, 1]\n"
          ],
          "name": "stdout"
        }
      ]
    },
    {
      "cell_type": "markdown",
      "metadata": {
        "id": "QxUUa3QrG9yv"
      },
      "source": [
        "## Network\n"
      ]
    },
    {
      "cell_type": "code",
      "metadata": {
        "colab": {
          "base_uri": "https://localhost:8080/"
        },
        "id": "up7yb6dZGaef",
        "outputId": "bdc6d1eb-2cb5-425f-865a-11558360aabf"
      },
      "source": [
        "i=0\n",
        "graph=list()\n",
        "for datavector in dataset:\n",
        "  neighbors=modelo_final(dataset, datavector,0.9,4)\n",
        "  nei=list()\n",
        "  for neighbor in neighbors:\n",
        "    a=dataset.index(neighbor)\n",
        "    nei.append([i,a])\n",
        "  i=i+1\n",
        "  graph=graph+nei\n",
        "print(graph)"
      ],
      "execution_count": null,
      "outputs": [
        {
          "output_type": "stream",
          "text": [
            "[[0, 0], [0, 4], [0, 1], [0, 3], [1, 1], [1, 3], [1, 0], [1, 4], [2, 2], [2, 4], [2, 0], [2, 1], [3, 3], [3, 1], [3, 0], [3, 4], [4, 4], [4, 0], [4, 2], [4, 1], [5, 5], [5, 9], [5, 7], [5, 6], [6, 6], [6, 7], [6, 5], [6, 4], [7, 7], [7, 5], [7, 6], [7, 9], [8, 8], [8, 7], [8, 5], [8, 9], [9, 9], [9, 5], [9, 7], [9, 6]]\n"
          ],
          "name": "stdout"
        }
      ]
    },
    {
      "cell_type": "code",
      "metadata": {
        "id": "s7bre8DiJQ8p"
      },
      "source": [
        "G = nx.Graph()\n",
        "for g in graph:\n",
        "  G.add_edge(g[0], g[1])"
      ],
      "execution_count": null,
      "outputs": []
    },
    {
      "cell_type": "code",
      "metadata": {
        "colab": {
          "base_uri": "https://localhost:8080/",
          "height": 319
        },
        "id": "7tddfq8rg3tj",
        "outputId": "355229a0-7bd0-4ae0-e09b-b11df0b2527a"
      },
      "source": [
        "color_map = []\n",
        "for node in G:\n",
        "    if dataset[node][2]==0:\n",
        "        color_map.append('blue')\n",
        "    else: \n",
        "        color_map.append('green')      \n",
        "nx.draw(G, node_color=color_map, with_labels=True)"
      ],
      "execution_count": null,
      "outputs": [
        {
          "output_type": "display_data",
          "data": {
            "image/png": "[encoded data removed]",
            "text/plain": [
              "<Figure size 432x288 with 1 Axes>"
            ]
          },
          "metadata": {
            "tags": []
          }
        }
      ]
    }
  ]
}