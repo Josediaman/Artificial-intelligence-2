{
  "nbformat": 4,
  "nbformat_minor": 0,
  "metadata": {
    "colab": {
      "name": "Series_prediction_1.ipynb",
      "provenance": [],
      "collapsed_sections": [
        "JKYlS07m7YaF",
        "7_AjlPSN7k2u",
        "VdkXzKbz8Xzi",
        "-SDIY-X784w5",
        "pOQAQPVP-Xj6"
      ]
    },
    "kernelspec": {
      "name": "python3",
      "display_name": "Python 3"
    }
  },
  "cells": [
    {
      "cell_type": "markdown",
      "metadata": {
        "id": "JaZQsDT07Squ"
      },
      "source": [
        "# Series prediction 1"
      ]
    },
    {
      "cell_type": "markdown",
      "metadata": {
        "id": "JKYlS07m7YaF"
      },
      "source": [
        "## Packages\n"
      ]
    },
    {
      "cell_type": "code",
      "metadata": {
        "id": "xFeEDoqf7R3M"
      },
      "source": [
        "import numpy as np\n",
        "import matplotlib.pyplot as plt\n",
        "import tensorflow as tf"
      ],
      "execution_count": null,
      "outputs": []
    },
    {
      "cell_type": "markdown",
      "metadata": {
        "id": "7_AjlPSN7k2u"
      },
      "source": [
        "## Data"
      ]
    },
    {
      "cell_type": "code",
      "metadata": {
        "colab": {
          "base_uri": "https://localhost:8080/"
        },
        "id": "XcMF-RE17OtI",
        "outputId": "56cc9566-e0e2-4747-d98b-72031155ec37"
      },
      "source": [
        "!wget --no-check-certificate \\\n",
        "    https://storage.googleapis.com/laurencemoroney-blog.appspot.com/Sunspots.csv \\\n",
        "    -O /tmp/sunspots.csv"
      ],
      "execution_count": null,
      "outputs": [
        {
          "output_type": "stream",
          "text": [
            "--2021-03-01 08:58:15--  https://storage.googleapis.com/laurencemoroney-blog.appspot.com/Sunspots.csv\n",
            "Resolving storage.googleapis.com (storage.googleapis.com)... 74.125.142.128, 74.125.195.128, 74.125.20.128, ...\n",
            "Connecting to storage.googleapis.com (storage.googleapis.com)|74.125.142.128|:443... connected.\n",
            "HTTP request sent, awaiting response... 200 OK\n",
            "Length: 70827 (69K) [application/octet-stream]\n",
            "Saving to: ‘/tmp/sunspots.csv’\n",
            "\n",
            "\r/tmp/sunspots.csv     0%[                    ]       0  --.-KB/s               \r/tmp/sunspots.csv   100%[===================>]  69.17K  --.-KB/s    in 0.001s  \n",
            "\n",
            "2021-03-01 08:58:15 (65.5 MB/s) - ‘/tmp/sunspots.csv’ saved [70827/70827]\n",
            "\n"
          ],
          "name": "stdout"
        }
      ]
    },
    {
      "cell_type": "code",
      "metadata": {
        "colab": {
          "base_uri": "https://localhost:8080/",
          "height": 52
        },
        "id": "hwPrinl47ywO",
        "outputId": "6ff1bec2-e895-4eca-99c3-87096cd31001"
      },
      "source": [
        "import csv\n",
        "time_step = []\n",
        "sunspots = []\n",
        "\n",
        "with open('/tmp/sunspots.csv') as csvfile:\n",
        "  reader = csv.reader(csvfile, delimiter=',')\n",
        "  next(reader)\n",
        "  for row in reader:\n",
        "    sunspots.append(float(row[2]))\n",
        "    time_step.append(int(row[0]))\n",
        "\n",
        "series = np.array(sunspots)\n",
        "time = np.array(time_step)\n",
        "plt.figure(figsize=(10, 6))"
      ],
      "execution_count": null,
      "outputs": [
        {
          "output_type": "execute_result",
          "data": {
            "text/plain": [
              "<Figure size 720x432 with 0 Axes>"
            ]
          },
          "metadata": {
            "tags": []
          },
          "execution_count": 3
        },
        {
          "output_type": "display_data",
          "data": {
            "text/plain": [
              "<Figure size 720x432 with 0 Axes>"
            ]
          },
          "metadata": {
            "tags": []
          }
        }
      ]
    },
    {
      "cell_type": "code",
      "metadata": {
        "colab": {
          "base_uri": "https://localhost:8080/",
          "height": 279
        },
        "id": "8ksOrhGU76aU",
        "outputId": "689359fd-be39-4097-8310-bcb225df4a71"
      },
      "source": [
        "def plot_series(time, series, format=\"-\", start=0, end=None):\n",
        "    plt.plot(time[start:end], series[start:end], format)\n",
        "    plt.xlabel(\"Time\")\n",
        "    plt.ylabel(\"Value\")\n",
        "    plt.grid(True)\n",
        "    \n",
        "plot_series(time, series)"
      ],
      "execution_count": null,
      "outputs": [
        {
          "output_type": "display_data",
          "data": {
            "image/png": "[encoded data removed]",
            "text/plain": [
              "<Figure size 432x288 with 1 Axes>"
            ]
          },
          "metadata": {
            "tags": [],
            "needs_background": "light"
          }
        }
      ]
    },
    {
      "cell_type": "markdown",
      "metadata": {
        "id": "VdkXzKbz8Xzi"
      },
      "source": [
        "## Train and validation sets"
      ]
    },
    {
      "cell_type": "code",
      "metadata": {
        "id": "Bm2kwGn08Dti"
      },
      "source": [
        "split_time = 3000\n",
        "time_train = time[:split_time]\n",
        "x_train = series[:split_time]\n",
        "time_valid = time[split_time:]\n",
        "x_valid = series[split_time:]\n",
        "\n"
      ],
      "execution_count": null,
      "outputs": []
    },
    {
      "cell_type": "code",
      "metadata": {
        "id": "jkDztUfd8eOE"
      },
      "source": [
        "def windowed_dataset(series, window_size, batch_size, shuffle_buffer):\n",
        "    series = tf.expand_dims(series, axis=-1)\n",
        "    ds = tf.data.Dataset.from_tensor_slices(series)\n",
        "    ds = ds.window(window_size + 1, shift=1, drop_remainder=True)\n",
        "    ds = ds.flat_map(lambda w: w.batch(window_size + 1))\n",
        "    ds = ds.shuffle(shuffle_buffer)\n",
        "    ds = ds.map(lambda w: (w[:-1], w[1:]))\n",
        "    return ds.batch(batch_size).prefetch(1)"
      ],
      "execution_count": null,
      "outputs": []
    },
    {
      "cell_type": "code",
      "metadata": {
        "colab": {
          "base_uri": "https://localhost:8080/"
        },
        "id": "8C73S-bb8ilz",
        "outputId": "fd39c21b-822f-441b-ee27-89930a486440"
      },
      "source": [
        "tf.keras.backend.clear_session()\n",
        "train_set = windowed_dataset(x_train, window_size=60, batch_size=100, shuffle_buffer=1000)\n",
        "print(train_set)\n",
        "print(x_train.shape)"
      ],
      "execution_count": null,
      "outputs": [
        {
          "output_type": "stream",
          "text": [
            "<PrefetchDataset shapes: ((None, None, 1), (None, None, 1)), types: (tf.float64, tf.float64)>\n",
            "(3000,)\n"
          ],
          "name": "stdout"
        }
      ]
    },
    {
      "cell_type": "markdown",
      "metadata": {
        "id": "-SDIY-X784w5"
      },
      "source": [
        "## Model"
      ]
    },
    {
      "cell_type": "code",
      "metadata": {
        "colab": {
          "base_uri": "https://localhost:8080/"
        },
        "id": "gnjchAQ68yce",
        "outputId": "9ee4e2b5-2e7a-48f9-c788-6d80138c8108"
      },
      "source": [
        "model = tf.keras.models.Sequential([\n",
        "  tf.keras.layers.Conv1D(filters=60, kernel_size=5,\n",
        "                      strides=1, padding=\"causal\",\n",
        "                      activation=\"relu\",\n",
        "                      input_shape=[None, 1]),\n",
        "  tf.keras.layers.LSTM(60, return_sequences=True),\n",
        "  tf.keras.layers.LSTM(60, return_sequences=True),\n",
        "  tf.keras.layers.Dense(30, activation=\"relu\"),\n",
        "  tf.keras.layers.Dense(10, activation=\"relu\"),\n",
        "  tf.keras.layers.Dense(1),\n",
        "  tf.keras.layers.Lambda(lambda x: x * 400)\n",
        "])\n",
        "\n",
        "\n",
        "optimizer = tf.keras.optimizers.SGD(lr=1e-5, momentum=0.9)\n",
        "model.compile(loss=tf.keras.losses.Huber(),\n",
        "              optimizer=optimizer,\n",
        "              metrics=[\"mae\"])\n",
        "history = model.fit(train_set,epochs=200)\n"
      ],
      "execution_count": null,
      "outputs": [
        {
          "output_type": "stream",
          "text": [
            "Epoch 1/200\n",
            "30/30 [==============================] - 7s 120ms/step - loss: 42.6700 - mae: 43.1664\n",
            "Epoch 2/200\n",
            "30/30 [==============================] - 4s 116ms/step - loss: 23.2637 - mae: 23.7579\n",
            "Epoch 3/200\n",
            "30/30 [==============================] - 4s 120ms/step - loss: 19.7368 - mae: 20.2290\n",
            "Epoch 4/200\n",
            "30/30 [==============================] - 4s 116ms/step - loss: 19.0884 - mae: 19.5810\n",
            "Epoch 5/200\n",
            "30/30 [==============================] - 4s 118ms/step - loss: 18.3517 - mae: 18.8437\n",
            "Epoch 6/200\n",
            "30/30 [==============================] - 4s 117ms/step - loss: 18.6099 - mae: 19.1021\n",
            "Epoch 7/200\n",
            "30/30 [==============================] - 4s 117ms/step - loss: 17.9398 - mae: 18.4313\n",
            "Epoch 8/200\n",
            "30/30 [==============================] - 4s 117ms/step - loss: 18.3950 - mae: 18.8873\n",
            "Epoch 9/200\n",
            "30/30 [==============================] - 4s 117ms/step - loss: 17.6833 - mae: 18.1744\n",
            "Epoch 10/200\n",
            "30/30 [==============================] - 4s 118ms/step - loss: 17.5261 - mae: 18.0178\n",
            "Epoch 11/200\n",
            "30/30 [==============================] - 4s 118ms/step - loss: 17.4390 - mae: 17.9308\n",
            "Epoch 12/200\n",
            "30/30 [==============================] - 4s 115ms/step - loss: 17.3585 - mae: 17.8499\n",
            "Epoch 13/200\n",
            "30/30 [==============================] - 4s 119ms/step - loss: 17.5134 - mae: 18.0049\n",
            "Epoch 14/200\n",
            "30/30 [==============================] - 4s 118ms/step - loss: 17.4158 - mae: 17.9072\n",
            "Epoch 15/200\n",
            "30/30 [==============================] - 4s 116ms/step - loss: 17.0634 - mae: 17.5544\n",
            "Epoch 16/200\n",
            "30/30 [==============================] - 4s 118ms/step - loss: 17.3848 - mae: 17.8761\n",
            "Epoch 17/200\n",
            "30/30 [==============================] - 4s 118ms/step - loss: 17.0746 - mae: 17.5652\n",
            "Epoch 18/200\n",
            "30/30 [==============================] - 4s 117ms/step - loss: 16.9078 - mae: 17.3986\n",
            "Epoch 19/200\n",
            "30/30 [==============================] - 4s 118ms/step - loss: 17.6682 - mae: 18.1593\n",
            "Epoch 20/200\n",
            "30/30 [==============================] - 4s 118ms/step - loss: 16.8161 - mae: 17.3069\n",
            "Epoch 21/200\n",
            "30/30 [==============================] - 4s 117ms/step - loss: 16.8592 - mae: 17.3495\n",
            "Epoch 22/200\n",
            "30/30 [==============================] - 4s 117ms/step - loss: 16.8693 - mae: 17.3598\n",
            "Epoch 23/200\n",
            "30/30 [==============================] - 4s 116ms/step - loss: 16.6399 - mae: 17.1302\n",
            "Epoch 24/200\n",
            "30/30 [==============================] - 4s 118ms/step - loss: 16.9839 - mae: 17.4744\n",
            "Epoch 25/200\n",
            "30/30 [==============================] - 4s 117ms/step - loss: 16.7378 - mae: 17.2279\n",
            "Epoch 26/200\n",
            "30/30 [==============================] - 4s 118ms/step - loss: 16.6215 - mae: 17.1114\n",
            "Epoch 27/200\n",
            "30/30 [==============================] - 4s 117ms/step - loss: 16.6184 - mae: 17.1083\n",
            "Epoch 28/200\n",
            "30/30 [==============================] - 4s 117ms/step - loss: 16.7824 - mae: 17.2718\n",
            "Epoch 29/200\n",
            "30/30 [==============================] - 4s 116ms/step - loss: 16.8627 - mae: 17.3523\n",
            "Epoch 30/200\n",
            "30/30 [==============================] - 4s 118ms/step - loss: 16.5648 - mae: 17.0542\n",
            "Epoch 31/200\n",
            "30/30 [==============================] - 4s 117ms/step - loss: 16.8007 - mae: 17.2902\n",
            "Epoch 32/200\n",
            "30/30 [==============================] - 4s 118ms/step - loss: 16.7901 - mae: 17.2797\n",
            "Epoch 33/200\n",
            "30/30 [==============================] - 4s 119ms/step - loss: 16.5814 - mae: 17.0709\n",
            "Epoch 34/200\n",
            "30/30 [==============================] - 4s 122ms/step - loss: 17.2708 - mae: 17.7611\n",
            "Epoch 35/200\n",
            "30/30 [==============================] - 4s 118ms/step - loss: 16.9517 - mae: 17.4415\n",
            "Epoch 36/200\n",
            "30/30 [==============================] - 4s 117ms/step - loss: 16.3924 - mae: 16.8816\n",
            "Epoch 37/200\n",
            "30/30 [==============================] - 4s 117ms/step - loss: 16.5200 - mae: 17.0087\n",
            "Epoch 38/200\n",
            "30/30 [==============================] - 4s 117ms/step - loss: 16.5582 - mae: 17.0472\n",
            "Epoch 39/200\n",
            "30/30 [==============================] - 4s 117ms/step - loss: 16.6758 - mae: 17.1646\n",
            "Epoch 40/200\n",
            "30/30 [==============================] - 4s 118ms/step - loss: 16.4437 - mae: 16.9326\n",
            "Epoch 41/200\n",
            "30/30 [==============================] - 4s 118ms/step - loss: 16.2542 - mae: 16.7433\n",
            "Epoch 42/200\n",
            "30/30 [==============================] - 4s 118ms/step - loss: 16.6747 - mae: 17.1644\n",
            "Epoch 43/200\n",
            "30/30 [==============================] - 4s 117ms/step - loss: 16.4185 - mae: 16.9068\n",
            "Epoch 44/200\n",
            "30/30 [==============================] - 4s 117ms/step - loss: 16.9721 - mae: 17.4615\n",
            "Epoch 45/200\n",
            "30/30 [==============================] - 4s 117ms/step - loss: 16.4861 - mae: 16.9746\n",
            "Epoch 46/200\n",
            "30/30 [==============================] - 4s 117ms/step - loss: 16.4041 - mae: 16.8929\n",
            "Epoch 47/200\n",
            "30/30 [==============================] - 4s 117ms/step - loss: 16.4157 - mae: 16.9036\n",
            "Epoch 48/200\n",
            "30/30 [==============================] - 4s 118ms/step - loss: 16.3880 - mae: 16.8761\n",
            "Epoch 49/200\n",
            "30/30 [==============================] - 4s 121ms/step - loss: 16.4568 - mae: 16.9456\n",
            "Epoch 50/200\n",
            "30/30 [==============================] - 4s 122ms/step - loss: 16.2681 - mae: 16.7566\n",
            "Epoch 51/200\n",
            "30/30 [==============================] - 4s 128ms/step - loss: 16.4517 - mae: 16.9405\n",
            "Epoch 52/200\n",
            "30/30 [==============================] - 4s 120ms/step - loss: 16.3620 - mae: 16.8502\n",
            "Epoch 53/200\n",
            "30/30 [==============================] - 4s 121ms/step - loss: 16.3807 - mae: 16.8699\n",
            "Epoch 54/200\n",
            "30/30 [==============================] - 4s 119ms/step - loss: 16.4281 - mae: 16.9169\n",
            "Epoch 55/200\n",
            "30/30 [==============================] - 4s 117ms/step - loss: 16.3635 - mae: 16.8518\n",
            "Epoch 56/200\n",
            "30/30 [==============================] - 4s 117ms/step - loss: 16.3573 - mae: 16.8462\n",
            "Epoch 57/200\n",
            "30/30 [==============================] - 4s 117ms/step - loss: 16.1257 - mae: 16.6137\n",
            "Epoch 58/200\n",
            "30/30 [==============================] - 4s 118ms/step - loss: 16.5594 - mae: 17.0485\n",
            "Epoch 59/200\n",
            "30/30 [==============================] - 4s 122ms/step - loss: 16.1224 - mae: 16.6097\n",
            "Epoch 60/200\n",
            "30/30 [==============================] - 4s 119ms/step - loss: 16.2040 - mae: 16.6918\n",
            "Epoch 61/200\n",
            "30/30 [==============================] - 4s 119ms/step - loss: 16.2199 - mae: 16.7070\n",
            "Epoch 62/200\n",
            "30/30 [==============================] - 4s 117ms/step - loss: 16.4466 - mae: 16.9352\n",
            "Epoch 63/200\n",
            "30/30 [==============================] - 4s 118ms/step - loss: 16.4375 - mae: 16.9262\n",
            "Epoch 64/200\n",
            "30/30 [==============================] - 4s 118ms/step - loss: 16.2287 - mae: 16.7164\n",
            "Epoch 65/200\n",
            "30/30 [==============================] - 4s 117ms/step - loss: 16.2264 - mae: 16.7147\n",
            "Epoch 66/200\n",
            "30/30 [==============================] - 4s 118ms/step - loss: 16.2479 - mae: 16.7358\n",
            "Epoch 67/200\n",
            "30/30 [==============================] - 4s 117ms/step - loss: 16.5163 - mae: 17.0048\n",
            "Epoch 68/200\n",
            "30/30 [==============================] - 4s 119ms/step - loss: 16.2137 - mae: 16.7016\n",
            "Epoch 69/200\n",
            "30/30 [==============================] - 4s 119ms/step - loss: 15.9572 - mae: 16.4441\n",
            "Epoch 70/200\n",
            "30/30 [==============================] - 4s 117ms/step - loss: 16.0462 - mae: 16.5334\n",
            "Epoch 71/200\n",
            "30/30 [==============================] - 4s 118ms/step - loss: 16.1860 - mae: 16.6739\n",
            "Epoch 72/200\n",
            "30/30 [==============================] - 4s 118ms/step - loss: 16.2952 - mae: 16.7834\n",
            "Epoch 73/200\n",
            "30/30 [==============================] - 4s 118ms/step - loss: 16.0939 - mae: 16.5811\n",
            "Epoch 74/200\n",
            "30/30 [==============================] - 4s 119ms/step - loss: 16.1385 - mae: 16.6265\n",
            "Epoch 75/200\n",
            "30/30 [==============================] - 4s 119ms/step - loss: 16.0615 - mae: 16.5496\n",
            "Epoch 76/200\n",
            "30/30 [==============================] - 4s 118ms/step - loss: 16.1575 - mae: 16.6453\n",
            "Epoch 77/200\n",
            "30/30 [==============================] - 4s 119ms/step - loss: 16.0219 - mae: 16.5095\n",
            "Epoch 78/200\n",
            "30/30 [==============================] - 4s 119ms/step - loss: 16.1829 - mae: 16.6706\n",
            "Epoch 79/200\n",
            "30/30 [==============================] - 4s 119ms/step - loss: 15.9065 - mae: 16.3934\n",
            "Epoch 80/200\n",
            "30/30 [==============================] - 4s 118ms/step - loss: 16.3092 - mae: 16.7972\n",
            "Epoch 81/200\n",
            "30/30 [==============================] - 4s 120ms/step - loss: 15.9348 - mae: 16.4220\n",
            "Epoch 82/200\n",
            "30/30 [==============================] - 4s 119ms/step - loss: 16.1487 - mae: 16.6358\n",
            "Epoch 83/200\n",
            "30/30 [==============================] - 4s 119ms/step - loss: 16.3825 - mae: 16.8714\n",
            "Epoch 84/200\n",
            "30/30 [==============================] - 4s 118ms/step - loss: 16.2300 - mae: 16.7181\n",
            "Epoch 85/200\n",
            "30/30 [==============================] - 4s 118ms/step - loss: 15.9592 - mae: 16.4459\n",
            "Epoch 86/200\n",
            "30/30 [==============================] - 4s 120ms/step - loss: 16.1305 - mae: 16.6183\n",
            "Epoch 87/200\n",
            "30/30 [==============================] - 4s 118ms/step - loss: 16.1232 - mae: 16.6102\n",
            "Epoch 88/200\n",
            "30/30 [==============================] - 4s 120ms/step - loss: 16.1240 - mae: 16.6111\n",
            "Epoch 89/200\n",
            "30/30 [==============================] - 4s 118ms/step - loss: 16.2422 - mae: 16.7297\n",
            "Epoch 90/200\n",
            "30/30 [==============================] - 4s 119ms/step - loss: 16.1015 - mae: 16.5895\n",
            "Epoch 91/200\n",
            "30/30 [==============================] - 4s 119ms/step - loss: 16.2317 - mae: 16.7186\n",
            "Epoch 92/200\n",
            "30/30 [==============================] - 4s 118ms/step - loss: 16.0137 - mae: 16.5006\n",
            "Epoch 93/200\n",
            "30/30 [==============================] - 4s 117ms/step - loss: 16.2082 - mae: 16.6957\n",
            "Epoch 94/200\n",
            "30/30 [==============================] - 4s 119ms/step - loss: 16.3862 - mae: 16.8741\n",
            "Epoch 95/200\n",
            "30/30 [==============================] - 4s 117ms/step - loss: 16.1057 - mae: 16.5929\n",
            "Epoch 96/200\n",
            "30/30 [==============================] - 4s 118ms/step - loss: 15.9270 - mae: 16.4142\n",
            "Epoch 97/200\n",
            "30/30 [==============================] - 4s 120ms/step - loss: 15.9856 - mae: 16.4720\n",
            "Epoch 98/200\n",
            "30/30 [==============================] - 4s 119ms/step - loss: 16.0391 - mae: 16.5261\n",
            "Epoch 99/200\n",
            "30/30 [==============================] - 4s 119ms/step - loss: 16.0144 - mae: 16.5019\n",
            "Epoch 100/200\n",
            "30/30 [==============================] - 4s 119ms/step - loss: 15.9642 - mae: 16.4510\n",
            "Epoch 101/200\n",
            "30/30 [==============================] - 4s 117ms/step - loss: 15.8468 - mae: 16.3338\n",
            "Epoch 102/200\n",
            "30/30 [==============================] - 4s 118ms/step - loss: 15.9903 - mae: 16.4778\n",
            "Epoch 103/200\n",
            "30/30 [==============================] - 4s 118ms/step - loss: 15.8050 - mae: 16.2910\n",
            "Epoch 104/200\n",
            "30/30 [==============================] - 4s 119ms/step - loss: 16.5223 - mae: 17.0106\n",
            "Epoch 105/200\n",
            "30/30 [==============================] - 4s 118ms/step - loss: 16.0849 - mae: 16.5726\n",
            "Epoch 106/200\n",
            "30/30 [==============================] - 4s 117ms/step - loss: 15.9514 - mae: 16.4387\n",
            "Epoch 107/200\n",
            "30/30 [==============================] - 4s 118ms/step - loss: 15.9342 - mae: 16.4213\n",
            "Epoch 108/200\n",
            "30/30 [==============================] - 4s 118ms/step - loss: 15.8025 - mae: 16.2889\n",
            "Epoch 109/200\n",
            "30/30 [==============================] - 4s 118ms/step - loss: 15.9161 - mae: 16.4035\n",
            "Epoch 110/200\n",
            "30/30 [==============================] - 4s 118ms/step - loss: 15.9480 - mae: 16.4347\n",
            "Epoch 111/200\n",
            "30/30 [==============================] - 4s 118ms/step - loss: 15.8557 - mae: 16.3426\n",
            "Epoch 112/200\n",
            "30/30 [==============================] - 4s 118ms/step - loss: 15.9033 - mae: 16.3896\n",
            "Epoch 113/200\n",
            "30/30 [==============================] - 4s 119ms/step - loss: 15.8041 - mae: 16.2905\n",
            "Epoch 114/200\n",
            "30/30 [==============================] - 4s 117ms/step - loss: 15.9144 - mae: 16.4004\n",
            "Epoch 115/200\n",
            "30/30 [==============================] - 4s 121ms/step - loss: 15.7233 - mae: 16.2091\n",
            "Epoch 116/200\n",
            "30/30 [==============================] - 4s 124ms/step - loss: 15.9771 - mae: 16.4637\n",
            "Epoch 117/200\n",
            "30/30 [==============================] - 4s 119ms/step - loss: 15.9250 - mae: 16.4118\n",
            "Epoch 118/200\n",
            "30/30 [==============================] - 4s 118ms/step - loss: 15.8133 - mae: 16.2997\n",
            "Epoch 119/200\n",
            "30/30 [==============================] - 4s 118ms/step - loss: 15.9604 - mae: 16.4469\n",
            "Epoch 120/200\n",
            "30/30 [==============================] - 4s 119ms/step - loss: 16.3214 - mae: 16.8097\n",
            "Epoch 121/200\n",
            "30/30 [==============================] - 4s 119ms/step - loss: 15.9893 - mae: 16.4757\n",
            "Epoch 122/200\n",
            "30/30 [==============================] - 4s 119ms/step - loss: 15.8781 - mae: 16.3651\n",
            "Epoch 123/200\n",
            "30/30 [==============================] - 4s 118ms/step - loss: 15.9101 - mae: 16.3968\n",
            "Epoch 124/200\n",
            "30/30 [==============================] - 4s 117ms/step - loss: 15.9849 - mae: 16.4716\n",
            "Epoch 125/200\n",
            "30/30 [==============================] - 4s 119ms/step - loss: 16.0973 - mae: 16.5842\n",
            "Epoch 126/200\n",
            "30/30 [==============================] - 4s 118ms/step - loss: 15.9971 - mae: 16.4846\n",
            "Epoch 127/200\n",
            "30/30 [==============================] - 4s 119ms/step - loss: 15.7626 - mae: 16.2492\n",
            "Epoch 128/200\n",
            "30/30 [==============================] - 4s 118ms/step - loss: 15.6159 - mae: 16.1024\n",
            "Epoch 129/200\n",
            "30/30 [==============================] - 4s 119ms/step - loss: 15.8500 - mae: 16.3367\n",
            "Epoch 130/200\n",
            "30/30 [==============================] - 4s 119ms/step - loss: 15.9282 - mae: 16.4153\n",
            "Epoch 131/200\n",
            "30/30 [==============================] - 4s 119ms/step - loss: 16.4619 - mae: 16.9500\n",
            "Epoch 132/200\n",
            "30/30 [==============================] - 4s 119ms/step - loss: 16.0605 - mae: 16.5477\n",
            "Epoch 133/200\n",
            "30/30 [==============================] - 4s 118ms/step - loss: 15.8329 - mae: 16.3190\n",
            "Epoch 134/200\n",
            "30/30 [==============================] - 4s 118ms/step - loss: 15.9754 - mae: 16.4625\n",
            "Epoch 135/200\n",
            "30/30 [==============================] - 4s 120ms/step - loss: 15.9767 - mae: 16.4642\n",
            "Epoch 136/200\n",
            "30/30 [==============================] - 4s 122ms/step - loss: 15.8001 - mae: 16.2859\n",
            "Epoch 137/200\n",
            "30/30 [==============================] - 4s 122ms/step - loss: 15.8434 - mae: 16.3303\n",
            "Epoch 138/200\n",
            "30/30 [==============================] - 4s 123ms/step - loss: 15.7932 - mae: 16.2791\n",
            "Epoch 139/200\n",
            "30/30 [==============================] - 4s 122ms/step - loss: 15.7340 - mae: 16.2199\n",
            "Epoch 140/200\n",
            "30/30 [==============================] - 4s 122ms/step - loss: 16.0351 - mae: 16.5230\n",
            "Epoch 141/200\n",
            "30/30 [==============================] - 4s 118ms/step - loss: 15.7854 - mae: 16.2727\n",
            "Epoch 142/200\n",
            "30/30 [==============================] - 4s 119ms/step - loss: 15.9477 - mae: 16.4349\n",
            "Epoch 143/200\n",
            "30/30 [==============================] - 4s 118ms/step - loss: 15.7363 - mae: 16.2226\n",
            "Epoch 144/200\n",
            "30/30 [==============================] - 4s 119ms/step - loss: 15.8216 - mae: 16.3085\n",
            "Epoch 145/200\n",
            "30/30 [==============================] - 4s 119ms/step - loss: 15.9702 - mae: 16.4579\n",
            "Epoch 146/200\n",
            "30/30 [==============================] - 4s 118ms/step - loss: 15.6781 - mae: 16.1648\n",
            "Epoch 147/200\n",
            "30/30 [==============================] - 4s 118ms/step - loss: 15.6960 - mae: 16.1821\n",
            "Epoch 148/200\n",
            "30/30 [==============================] - 4s 120ms/step - loss: 15.7040 - mae: 16.1903\n",
            "Epoch 149/200\n",
            "30/30 [==============================] - 4s 120ms/step - loss: 15.7813 - mae: 16.2678\n",
            "Epoch 150/200\n",
            "30/30 [==============================] - 4s 119ms/step - loss: 15.6644 - mae: 16.1500\n",
            "Epoch 151/200\n",
            "30/30 [==============================] - 4s 118ms/step - loss: 15.8624 - mae: 16.3494\n",
            "Epoch 152/200\n",
            "30/30 [==============================] - 4s 121ms/step - loss: 15.9237 - mae: 16.4106\n",
            "Epoch 153/200\n",
            "30/30 [==============================] - 4s 118ms/step - loss: 15.7672 - mae: 16.2533\n",
            "Epoch 154/200\n",
            "30/30 [==============================] - 4s 119ms/step - loss: 15.9665 - mae: 16.4534\n",
            "Epoch 155/200\n",
            "30/30 [==============================] - 4s 119ms/step - loss: 15.5764 - mae: 16.0623\n",
            "Epoch 156/200\n",
            "30/30 [==============================] - 4s 119ms/step - loss: 15.8624 - mae: 16.3490\n",
            "Epoch 157/200\n",
            "30/30 [==============================] - 4s 119ms/step - loss: 15.5900 - mae: 16.0762\n",
            "Epoch 158/200\n",
            "30/30 [==============================] - 4s 119ms/step - loss: 15.8837 - mae: 16.3707\n",
            "Epoch 159/200\n",
            "30/30 [==============================] - 4s 118ms/step - loss: 15.6044 - mae: 16.0905\n",
            "Epoch 160/200\n",
            "30/30 [==============================] - 4s 120ms/step - loss: 15.6380 - mae: 16.1247\n",
            "Epoch 161/200\n",
            "30/30 [==============================] - 4s 118ms/step - loss: 15.6327 - mae: 16.1184\n",
            "Epoch 162/200\n",
            "30/30 [==============================] - 4s 119ms/step - loss: 15.6535 - mae: 16.1398\n",
            "Epoch 163/200\n",
            "30/30 [==============================] - 4s 119ms/step - loss: 15.6623 - mae: 16.1484\n",
            "Epoch 164/200\n",
            "30/30 [==============================] - 4s 118ms/step - loss: 15.6476 - mae: 16.1337\n",
            "Epoch 165/200\n",
            "30/30 [==============================] - 4s 120ms/step - loss: 15.7710 - mae: 16.2580\n",
            "Epoch 166/200\n",
            "30/30 [==============================] - 4s 119ms/step - loss: 15.5796 - mae: 16.0650\n",
            "Epoch 167/200\n",
            "30/30 [==============================] - 4s 119ms/step - loss: 15.6707 - mae: 16.1572\n",
            "Epoch 168/200\n",
            "30/30 [==============================] - 4s 119ms/step - loss: 15.5860 - mae: 16.0721\n",
            "Epoch 169/200\n",
            "30/30 [==============================] - 4s 120ms/step - loss: 15.6151 - mae: 16.1013\n",
            "Epoch 170/200\n",
            "30/30 [==============================] - 4s 121ms/step - loss: 15.9735 - mae: 16.4607\n",
            "Epoch 171/200\n",
            "30/30 [==============================] - 4s 119ms/step - loss: 15.5165 - mae: 16.0028\n",
            "Epoch 172/200\n",
            "30/30 [==============================] - 4s 121ms/step - loss: 15.6843 - mae: 16.1704\n",
            "Epoch 173/200\n",
            "30/30 [==============================] - 4s 121ms/step - loss: 15.6742 - mae: 16.1608\n",
            "Epoch 174/200\n",
            "30/30 [==============================] - 4s 120ms/step - loss: 15.6111 - mae: 16.0975\n",
            "Epoch 175/200\n",
            "30/30 [==============================] - 4s 121ms/step - loss: 15.7817 - mae: 16.2685\n",
            "Epoch 176/200\n",
            "30/30 [==============================] - 4s 119ms/step - loss: 15.5553 - mae: 16.0425\n",
            "Epoch 177/200\n",
            "30/30 [==============================] - 4s 120ms/step - loss: 15.6757 - mae: 16.1617\n",
            "Epoch 178/200\n",
            "30/30 [==============================] - 4s 121ms/step - loss: 15.5003 - mae: 15.9865\n",
            "Epoch 179/200\n",
            "30/30 [==============================] - 4s 122ms/step - loss: 15.5332 - mae: 16.0193\n",
            "Epoch 180/200\n",
            "30/30 [==============================] - 4s 122ms/step - loss: 15.7493 - mae: 16.2357\n",
            "Epoch 181/200\n",
            "30/30 [==============================] - 4s 121ms/step - loss: 15.6470 - mae: 16.1333\n",
            "Epoch 182/200\n",
            "30/30 [==============================] - 4s 120ms/step - loss: 15.4541 - mae: 15.9401\n",
            "Epoch 183/200\n",
            "30/30 [==============================] - 4s 121ms/step - loss: 15.9167 - mae: 16.4043\n",
            "Epoch 184/200\n",
            "30/30 [==============================] - 4s 121ms/step - loss: 15.6078 - mae: 16.0943\n",
            "Epoch 185/200\n",
            "30/30 [==============================] - 4s 120ms/step - loss: 15.6829 - mae: 16.1701\n",
            "Epoch 186/200\n",
            "30/30 [==============================] - 4s 121ms/step - loss: 15.4690 - mae: 15.9548\n",
            "Epoch 187/200\n",
            "30/30 [==============================] - 4s 119ms/step - loss: 16.0097 - mae: 16.4971\n",
            "Epoch 188/200\n",
            "30/30 [==============================] - 4s 120ms/step - loss: 15.5904 - mae: 16.0769\n",
            "Epoch 189/200\n",
            "30/30 [==============================] - 4s 120ms/step - loss: 15.5046 - mae: 15.9911\n",
            "Epoch 190/200\n",
            "30/30 [==============================] - 4s 119ms/step - loss: 15.6206 - mae: 16.1067\n",
            "Epoch 191/200\n",
            "30/30 [==============================] - 4s 120ms/step - loss: 15.5524 - mae: 16.0388\n",
            "Epoch 192/200\n",
            "30/30 [==============================] - 4s 121ms/step - loss: 15.9491 - mae: 16.4369\n",
            "Epoch 193/200\n",
            "30/30 [==============================] - 4s 120ms/step - loss: 15.9797 - mae: 16.4678\n",
            "Epoch 194/200\n",
            "30/30 [==============================] - 4s 119ms/step - loss: 15.5070 - mae: 15.9932\n",
            "Epoch 195/200\n",
            "30/30 [==============================] - 4s 121ms/step - loss: 15.8131 - mae: 16.3003\n",
            "Epoch 196/200\n",
            "30/30 [==============================] - 4s 122ms/step - loss: 15.4218 - mae: 15.9079\n",
            "Epoch 197/200\n",
            "30/30 [==============================] - 4s 126ms/step - loss: 15.4831 - mae: 15.9693\n",
            "Epoch 198/200\n",
            "30/30 [==============================] - 4s 124ms/step - loss: 15.6724 - mae: 16.1588\n",
            "Epoch 199/200\n",
            "30/30 [==============================] - 4s 121ms/step - loss: 15.5753 - mae: 16.0619\n",
            "Epoch 200/200\n",
            "30/30 [==============================] - 4s 121ms/step - loss: 15.5045 - mae: 15.9908\n"
          ],
          "name": "stdout"
        }
      ]
    },
    {
      "cell_type": "markdown",
      "metadata": {
        "id": "pOQAQPVP-Xj6"
      },
      "source": [
        "## Prediction"
      ]
    },
    {
      "cell_type": "code",
      "metadata": {
        "id": "_vFdBYDfCJFA"
      },
      "source": [
        "def model_forecast(model, series, window_size):\n",
        "    ds = tf.data.Dataset.from_tensor_slices(series)\n",
        "    ds = ds.window(window_size, shift=1, drop_remainder=True)\n",
        "    ds = ds.flat_map(lambda w: w.batch(window_size))\n",
        "    ds = ds.batch(100).prefetch(1)\n",
        "    forecast = model.predict(ds)\n",
        "    return forecast"
      ],
      "execution_count": null,
      "outputs": []
    },
    {
      "cell_type": "code",
      "metadata": {
        "colab": {
          "base_uri": "https://localhost:8080/",
          "height": 388
        },
        "id": "Ot-Y0Yqc-aNp",
        "outputId": "d285d1d5-9818-41de-b84b-af6278040e97"
      },
      "source": [
        "window_size=60\n",
        "rnn_forecast = model_forecast(model, series[..., np.newaxis], window_size)\n",
        "rnn_forecast = rnn_forecast[split_time - window_size:-1, -1, 0]\n",
        "plt.figure(figsize=(10, 6))\n",
        "plot_series(time_valid, x_valid)\n",
        "plot_series(time_valid, rnn_forecast)"
      ],
      "execution_count": null,
      "outputs": [
        {
          "output_type": "display_data",
          "data": {
            "image/png": "[encoded data removed]",
            "text/plain": [
              "<Figure size 720x432 with 1 Axes>"
            ]
          },
          "metadata": {
            "tags": [],
            "needs_background": "light"
          }
        }
      ]
    },
    {
      "cell_type": "code",
      "metadata": {
        "colab": {
          "base_uri": "https://localhost:8080/"
        },
        "id": "xif6mxx6E8Vk",
        "outputId": "12c9548e-a1c7-46a3-89cf-5f0553d0dce6"
      },
      "source": [
        "tf.keras.metrics.mean_absolute_error(x_valid, rnn_forecast).numpy()"
      ],
      "execution_count": null,
      "outputs": [
        {
          "output_type": "execute_result",
          "data": {
            "text/plain": [
              "15.203614"
            ]
          },
          "metadata": {
            "tags": []
          },
          "execution_count": 21
        }
      ]
    },
    {
      "cell_type": "code",
      "metadata": {
        "id": "WdutdrwTGslA"
      },
      "source": [
        ""
      ],
      "execution_count": null,
      "outputs": []
    }
  ]
}